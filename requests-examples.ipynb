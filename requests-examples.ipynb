{
 "cells": [
  {
   "cell_type": "markdown",
   "metadata": {},
   "source": [
    "# Python requests 模块示例代码"
   ]
  },
  {
   "cell_type": "markdown",
   "metadata": {},
   "source": [
    "&emsp; Python requests 模块是一个简单优雅的 Python HTTP 库，用于发送 HTTP 请求，并获取响应，从中得到所需信息。请求网址和相关参数一般通过浏览器 “开发者工具” (F12) 中的 Network 标签下的 Fetch/XHR 选项过滤获得。本文主要是 requests 模块的一些示例代码，requests 入门教程参见 [Python requests 模块-RUNOOB](https://www.runoob.com/python3/python-requests.html) 和 [Quickstart - Python requests documentation](https://docs.python-requests.org/en/latest/user/quickstart/)。具体示例代码如下："
   ]
  },
  {
   "cell_type": "markdown",
   "metadata": {},
   "source": [
    "## 01. 搜狗搜索数据"
   ]
  },
  {
   "cell_type": "code",
   "execution_count": 1,
   "metadata": {},
   "outputs": [
    {
     "name": "stdout",
     "output_type": "stream",
     "text": [
      "Enter a keyword:九霄\n",
      "Request URL:  https://www.sogou.com/web?query=%E4%B9%9D%E9%9C%84\n",
      "Request Type:  <PreparedRequest [GET]>\n",
      "Response status:  200\n",
      "Over\n"
     ]
    }
   ],
   "source": [
    "import requests\n",
    "\n",
    "headers = {'user-agent': 'Mozilla/5.0 (Windows NT 10.0; Win64; x64) AppleWebKit/537.36 (KHTML, like Gecko) Chrome/109.0.0.0 Safari/537.36' }\n",
    "url = 'https://www.sogou.com/web'\n",
    "kw = input('Enter a keyword:')\n",
    "params = {'query': kw}\n",
    "\n",
    "r = requests.get(url=url, headers=headers, params=params)\n",
    "page_text = r.text\n",
    "with open('sogou.html', 'w', encoding='utf-8') as fp:\n",
    "    fp.write(page_text)\n",
    "print('Request URL: ', r.url)\n",
    "print('Request Type: ', r.request)\n",
    "print('Response status: ', r.status_code)\n",
    "print('Over')"
   ]
  },
  {
   "cell_type": "markdown",
   "metadata": {},
   "source": [
    "## 02. 百度翻译"
   ]
  },
  {
   "cell_type": "code",
   "execution_count": 2,
   "metadata": {},
   "outputs": [
    {
     "name": "stdout",
     "output_type": "stream",
     "text": [
      "Enter a keyword:交易所\n",
      "Request URL:  https://fanyi.baidu.com/sug\n",
      "Request Type:  <PreparedRequest [POST]>\n",
      "Response json data:  {'errno': 0, 'data': [{'k': '交易所', 'v': 'exchange; bourse; house; [电影]Trading Places'}]}\n",
      "Over\n"
     ]
    }
   ],
   "source": [
    "import requests\n",
    "import json\n",
    "\n",
    "headers = {'user-agent': 'Mozilla/5.0 (Windows NT 10.0; Win64; x64) AppleWebKit/537.36 (KHTML, like Gecko) Chrome/109.0.0.0 Safari/537.36'}\n",
    "kw = input('Enter a keyword:')\n",
    "data = {'kw': kw}\n",
    "url = 'https://fanyi.baidu.com/sug'\n",
    "\n",
    "r = requests.post(url=url, headers=headers, data=data)\n",
    "json_data = r.json()\n",
    "with open('baidu-fanyi.json', 'w', encoding='utf-8') as fp:\n",
    "    json.dump(json_data, fp=fp, ensure_ascii=False)\n",
    "\n",
    "print('Request URL: ', r.url)\n",
    "print('Request Type: ', r.request)\n",
    "print('Response json data: ', json_data)\n",
    "print('Over')"
   ]
  },
  {
   "cell_type": "markdown",
   "metadata": {},
   "source": [
    "## 03. 豆瓣电影排行"
   ]
  },
  {
   "cell_type": "code",
   "execution_count": 3,
   "metadata": {},
   "outputs": [
    {
     "name": "stdout",
     "output_type": "stream",
     "text": [
      "Request URL:  https://movie.douban.com/j/chart/top_list?interval_id=100%3A90&action=&type=24&start=0&limit=5\n",
      "Request Type:  <PreparedRequest [GET]>\n",
      "Response json data:  [{'rating': ['9.6', '50'], 'rank': 1, 'cover_url': 'https://img2.doubanio.com/view/photo/s_ratio_poster/public/p2578474613.jpg', 'is_playable': True, 'id': '1292063', 'types': ['剧情', '喜剧', '爱情', '战争'], 'regions': ['意大利'], 'title': '美丽人生', 'url': 'https://movie.douban.com/subject/1292063/', 'release_date': '2020-01-03', 'actor_count': 29, 'vote_count': 1316417, 'score': '9.6', 'actors': ['罗伯托·贝尼尼', '尼可莱塔·布拉斯基', '乔治·坎塔里尼', '朱斯蒂诺·杜拉诺', '赛尔乔·比尼·布斯特里克', '玛丽萨·帕雷德斯', '霍斯特·布赫霍尔茨', '利迪娅·阿方西', '朱利亚娜·洛约迪切', '亚美利哥·丰塔尼', '彼得·德·席尔瓦', '弗朗西斯·古佐', '拉法埃拉·莱博罗尼', '克劳迪奥·阿方西', '吉尔·巴罗尼', '马西莫·比安奇', '恩尼奥·孔萨尔维', '吉安卡尔洛·科森蒂诺', '阿伦·克雷格', '汉尼斯·赫尔曼', '弗兰科·梅斯科利尼', '安东尼奥·普雷斯特', '吉娜·诺维勒', '理查德·塞梅尔', '安德烈提多娜', '迪尔克·范登贝格', '奥梅罗·安东努蒂', '沈晓谦', '张欣'], 'is_watched': False}, {'rating': ['9.3', '50'], 'rank': 2, 'cover_url': 'https://img1.doubanio.com/view/photo/s_ratio_poster/public/p2553104888.jpg', 'is_playable': False, 'id': '1291858', 'types': ['剧情', '喜剧'], 'regions': ['中国大陆'], 'title': '鬼子来了', 'url': 'https://movie.douban.com/subject/1291858/', 'release_date': '2000-05-12', 'actor_count': 30, 'vote_count': 621413, 'score': '9.3', 'actors': ['姜文', '香川照之', '袁丁', '姜宏波', '丛志军', '李丛喜', '泽田谦也', '李海滨', '蔡卫东', '陈述', '陈莲梅', '史建全', '陈强', '宫路佳具', '吴大维', '梶冈润一', '石山雄大', '述平', '姜武', '姜金才', '石山雄太', '山田将之', '贾幼然', '王义和', '杜世儒', '周海超', '白云生', '徐海东', '长野客弘', '鱼见亮介'], 'is_watched': False}, {'rating': ['9.3', '50'], 'rank': 3, 'cover_url': 'https://img9.doubanio.com/view/photo/s_ratio_poster/public/p1454261925.jpg', 'is_playable': True, 'id': '6786002', 'types': ['剧情', '喜剧'], 'regions': ['法国'], 'title': '触不可及', 'url': 'https://movie.douban.com/subject/6786002/', 'release_date': '2011-11-02', 'actor_count': 19, 'vote_count': 1102358, 'score': '9.3', 'actors': ['弗朗索瓦·克鲁塞', '奥玛·希', '安娜·勒尼', '奥德雷·弗勒罗', '约瑟芬娜·德·摩', '克洛蒂尔德·莫莱特', '阿尔芭·贝露琪', '萨丽马特·卡马特', '托马·索利韦尔', '让-弗朗索瓦·凯雷', '玛丽-洛尔·德库洛', '安托万·劳伦特', '弗朗索瓦·卡隆', 'Caroline Bourg', '海迪·布奇纳法', '艾米丽·卡恩', '多萝特博里埃', '皮埃尔-罗兰·巴纳隆', 'Dominique Daguier'], 'is_watched': False}, {'rating': ['9.3', '50'], 'rank': 4, 'cover_url': 'https://img1.doubanio.com/view/photo/s_ratio_poster/public/p2263408369.jpg', 'is_playable': True, 'id': '1294371', 'types': ['剧情', '喜剧', '爱情'], 'regions': ['美国'], 'title': '摩登时代', 'url': 'https://movie.douban.com/subject/1294371/', 'release_date': '1936-02-25', 'actor_count': 37, 'vote_count': 297708, 'score': '9.3', 'actors': ['查理·卓别林', '宝莲·高黛', '亨利·伯格曼', '蒂尼·桑福德', '切斯特·康克林', '汉克·曼', '斯坦利·布莱斯通', '阿尔·欧内斯特·加西亚', '理查德·亚历山大', '塞西尔·雷诺兹', '米拉·麦金尼', '默多克·麦夸里', '威尔弗雷德·卢卡斯', '爱德华·勒桑', '弗雷德·马拉泰斯塔', '萨米·斯坦', '特德·奥利弗', '诺曼·安斯利', '博比·巴伯', '海尼·康克林', '格洛丽亚·德黑文', '帕特·弗莱厄蒂', '弗兰克·哈格尼', '帕特·哈蒙', '劳埃德·英格拉哈姆', '沃尔特·詹姆斯', '爱德华·金博尔', '杰克·洛', '巴迪·梅辛杰', '布鲁斯·米切尔', '弗兰克·莫兰', '詹姆斯·C·莫顿', '路易·纳托', 'J·C·纽金特', '拉斯·鲍威尔', '约翰兰德', '哈里·威尔逊'], 'is_watched': False}, {'rating': ['9.2', '45'], 'rank': 5, 'cover_url': 'https://img9.doubanio.com/view/photo/s_ratio_poster/public/p2455050536.jpg', 'is_playable': True, 'id': '1292213', 'types': ['喜剧', '爱情', '奇幻', '古装'], 'regions': ['中国香港', '中国大陆'], 'title': '大话西游之大圣娶亲', 'url': 'https://movie.douban.com/subject/1292213/', 'release_date': '2014-10-24', 'actor_count': 17, 'vote_count': 1521373, 'score': '9.2', 'actors': ['周星驰', '吴孟达', '朱茵', '蔡少芬', '蓝洁瑛', '莫文蔚', '罗家英', '刘镇伟', '陆树铭', '李健仁', '吴珏瑾', '江约诚', '胡立成', '许敬义', '付博文', '侯艳', '金永钢'], 'is_watched': False}]\n",
      "Over\n"
     ]
    }
   ],
   "source": [
    "import requests\n",
    "import json\n",
    "\n",
    "headers = {'user-agent': 'Mozilla/5.0 (Windows NT 10.0; Win64; x64) AppleWebKit/537.36 (KHTML, like Gecko) Chrome/109.0.0.0 Safari/537.36'}\n",
    "params = {\n",
    "    # base params\n",
    "    'interval_id': '100:90',\n",
    "    'action':'',\n",
    "    # other params\n",
    "    'type': '24',  # movie type\n",
    "    'start': '0',  # start index\n",
    "    'limit': '5', # quantity limit of movies returned\n",
    "}\n",
    "url = 'https://movie.douban.com/j/chart/top_list'\n",
    "\n",
    "r = requests.get(url=url, headers=headers, params=params)\n",
    "json_data = r.json()\n",
    "with open('douban-movie-toplist.json', 'w', encoding='utf-8') as fp:\n",
    "    json.dump(json_data, fp=fp, ensure_ascii=False)\n",
    "print('Request URL: ', r.url)\n",
    "print('Request Type: ', r.request)\n",
    "print('Response json data: ', json_data)\n",
    "print('Over')"
   ]
  },
  {
   "cell_type": "markdown",
   "metadata": {},
   "source": [
    "## 04. 肯德基门店信息"
   ]
  },
  {
   "cell_type": "code",
   "execution_count": 4,
   "metadata": {},
   "outputs": [
    {
     "name": "stdout",
     "output_type": "stream",
     "text": [
      "Request URL:  http://www.kfc.com.cn/kfccda/ashx/GetStoreList.ashx?op=keyword\n",
      "Request Type:  <PreparedRequest [POST]>\n",
      "Response json data:  {'Table': [{'rowcount': 11}], 'Table1': [{'rownum': 1, 'storeName': '新中关', 'addressDetail': '中关村大街19号新中关大厦B1', 'pro': '礼品卡', 'provinceName': '北京市', 'cityName': '北京市'}, {'rownum': 2, 'storeName': '中关村e世界', 'addressDetail': '中关村大街11号1层C1580号商铺', 'pro': 'Wi-Fi,店内参观,礼品卡', 'provinceName': '北京市', 'cityName': '北京市'}, {'rownum': 3, 'storeName': '中关村南大街', 'addressDetail': '中关村南大街28号院4号楼2层', 'pro': 'Wi-Fi,店内参观', 'provinceName': '北京市', 'cityName': '北京市'}, {'rownum': 4, 'storeName': '中关村壹号', 'addressDetail': '北清路81号院二区4号楼1层101-1室', 'pro': 'Wi-Fi,店内参观', 'provinceName': '北京市', 'cityName': '北京市'}, {'rownum': 5, 'storeName': '中关村壹号', 'addressDetail': '北清路81号院二区4号楼1层101-1室', 'pro': 'Wi-Fi,店内参观', 'provinceName': '北京市', 'cityName': '北京市'}, {'rownum': 6, 'storeName': '新浪总部', 'addressDetail': '东北旺路中关村软件园二期（西扩）N-1、N-2地块新浪总部负一层', 'pro': '手机点餐', 'provinceName': '北京市', 'cityName': '北京市'}, {'rownum': 7, 'storeName': '新浪总部', 'addressDetail': '东北旺路中关村软件园二期（西扩）N-1、N-2地块新浪总部负一层', 'pro': '手机点餐', 'provinceName': '北京市', 'cityName': '北京市'}, {'rownum': 8, 'storeName': '中石化中关村餐厅', 'addressDetail': '海淀路78号', 'pro': '手机点餐', 'provinceName': '北京市', 'cityName': '北京市'}, {'rownum': 9, 'storeName': '中石化中关村餐厅', 'addressDetail': '海淀路78号', 'pro': '手机点餐', 'provinceName': '北京市', 'cityName': '北京市'}, {'rownum': 10, 'storeName': '人民大学', 'addressDetail': '中关村大街59号中国人民大学明德商学楼西南角附属用房。', 'pro': '手机点餐', 'provinceName': '北京市', 'cityName': '北京市'}]}\n",
      "Over\n"
     ]
    }
   ],
   "source": [
    "import requests\n",
    "import json\n",
    "\n",
    "cityname, kw = '北京', '中关村'\n",
    "headers = {'user-agent': 'Mozilla/5.0 (Windows NT 10.0; Win64; x64) AppleWebKit/537.36 (KHTML, like Gecko) Chrome/109.0.0.0 Safari/537.36'}\n",
    "data = {\n",
    "    'cname': cityname, \n",
    "    'pid': '',\n",
    "    'keyword': kw,   \n",
    "    'pageIndex': '1',\n",
    "    'pageSize': '10',\n",
    "}\n",
    "url = 'http://www.kfc.com.cn/kfccda/ashx/GetStoreList.ashx?op=keyword'\n",
    "\n",
    "r = requests.post(url=url, headers=headers, data=data)\n",
    "json_data = r.json()\n",
    "with open('KFC-storelist.json', 'w', encoding='utf-8') as fp:\n",
    "    json.dump(json_data, fp=fp, ensure_ascii=False)\n",
    "print('Request URL: ', r.url)\n",
    "print('Request Type: ', r.request)\n",
    "print('Response json data: ', json_data)\n",
    "print('Over')"
   ]
  },
  {
   "cell_type": "markdown",
   "metadata": {},
   "source": [
    "## 05. 新浪、腾讯股票实时数据"
   ]
  },
  {
   "cell_type": "code",
   "execution_count": 5,
   "metadata": {},
   "outputs": [
    {
     "name": "stdout",
     "output_type": "stream",
     "text": [
      "============================== sina ==============================\n",
      "Request URL:  https://hq.sinajs.cn/list=sh600000,sz000001\n",
      "Request Type:  <PreparedRequest [GET]>\n",
      "Response text data: \n",
      "var hq_str_sh600000=\"浦发银行,7.290,7.290,7.270,7.370,7.270,7.260,7.270,20122147,147098242.000,428000,7.260,483400,7.250,153400,7.240,95400,7.230,45100,7.220,202916,7.270,35300,7.280,109100,7.290,186900,7.300,197000,7.310,2023-06-21,15:00:00,00,\";\n",
      "var hq_str_sz000001=\"平安银行,11.360,11.360,11.350,11.480,11.340,11.350,11.360,61658296,703681564.000,435742,11.350,521300,11.340,316300,11.330,221100,11.320,311700,11.310,285000,11.360,248300,11.370,100200,11.380,179400,11.390,932400,11.400,2023-06-21,15:00:03,00\";\n",
      "\n",
      "============================== tencent ==============================\n",
      "Request URL:  https://qt.gtimg.cn/q=sh600000,sz000001\n",
      "Request Type:  <PreparedRequest [GET]>\n",
      "Response text data: \n",
      "v_sh600000=\"1~浦发银行~600000~7.27~7.29~7.29~201221~101015~100206~7.26~4280~7.25~4834~7.24~1534~7.23~954~7.22~451~7.27~2029~7.28~353~7.29~1091~7.30~1869~7.31~1970~~20230621155954~-0.02~-0.27~7.37~7.27~7.27/201221/147098242~201221~14710~0.07~4.48~~7.37~7.27~1.37~2133.90~2133.90~0.35~8.02~6.56~0.97~4741~7.31~3.37~4.17~~~0.64~14709.8242~0.0000~0~ ~GP-A~-0.14~-1.76~5.64~6.67~0.55~8.22~6.63~-2.55~-0.27~0.83~29352174759~29352174759~24.48~1.96~29352174759~~~-3.84~-0.14~~CNY~0~___D__F__N\";\n",
      "v_sz000001=\"51~平安银行~000001~11.35~11.36~11.36~616583~285384~331199~11.35~4357~11.34~5213~11.33~3163~11.32~2211~11.31~3117~11.36~2850~11.37~2483~11.38~1002~11.39~1794~11.40~9324~~20230621161451~-0.01~-0.09~11.48~11.34~11.35/616583/703681564~616583~70368~0.32~4.66~~11.48~11.34~1.23~2202.53~2202.57~0.59~12.50~10.22~0.71~608~11.41~3.77~4.84~~~1.35~70368.1564~0.0000~0~ ~GP-A~-11.84~-1.05~4.52~10.58~0.87~15.46~9.94~-2.62~-3.20~-10.03~19405546950~19405918198~1.71~-6.55~19405546950~~~-18.09~0.00~~CNY~0~\";\n",
      "\n",
      "Over\n"
     ]
    }
   ],
   "source": [
    "import requests\n",
    "\n",
    "stocklist = ['sh600000','sz000001']\n",
    "keystr = ','.join(stocklist)\n",
    "\n",
    "# Get sina stock spot data\n",
    "print('=' * 30, 'sina', '='*30)\n",
    "headers = {'referer': 'https://finance.sina.com.cn'}\n",
    "url = 'https://hq.sinajs.cn/list=%s' % keystr\n",
    "r = requests.get(url=url, headers=headers)\n",
    "page_text = r.text\n",
    "print('Request URL: ', r.url)\n",
    "print('Request Type: ', r.request)\n",
    "print('Response text data: ') \n",
    "print(page_text)\n",
    "\n",
    "# Get tencent stock spot data\n",
    "print('=' * 30, 'tencent', '='*30)\n",
    "url = 'https://qt.gtimg.cn/q=%s' % keystr \n",
    "r = requests.get(url=url)\n",
    "page_text = r.text\n",
    "print('Request URL: ', r.url)\n",
    "print('Request Type: ', r.request)\n",
    "print('Response text data: ')\n",
    "print(page_text)\n",
    "print('Over')"
   ]
  },
  {
   "cell_type": "markdown",
   "metadata": {},
   "source": [
    "## 06. 东方财富个股人气榜（top 100）"
   ]
  },
  {
   "cell_type": "code",
   "execution_count": 6,
   "metadata": {},
   "outputs": [
    {
     "name": "stdout",
     "output_type": "stream",
     "text": [
      "Request URL:  https://emappdata.eastmoney.com/stockrank/getAllCurrentList\n",
      "Request Type:  <PreparedRequest [POST]>\n",
      "Response json data:  {'globalId': '786e4c21-70dc-435a-93bb-38', 'message': 'OK', 'status': 0, 'code': 0, 'data': [{'sc': 'SZ002527', 'rk': 1, 'rc': 0}, {'sc': 'SZ002892', 'rk': 2, 'rc': 0}, {'sc': 'SZ002553', 'rk': 3, 'rc': 0}, {'sc': 'SH603767', 'rk': 4, 'rc': 0}, {'sc': 'SZ002514', 'rk': 5, 'rc': 0}, {'sc': 'SH603211', 'rk': 6, 'rc': 0}, {'sc': 'SZ300418', 'rk': 7, 'rc': 0}, {'sc': 'SZ000837', 'rk': 8, 'rc': 0}, {'sc': 'SH603738', 'rk': 9, 'rc': 0}, {'sc': 'SZ002590', 'rk': 10, 'rc': 0}, {'sc': 'SZ000936', 'rk': 11, 'rc': 0}, {'sc': 'SZ000037', 'rk': 12, 'rc': 0}, {'sc': 'SH603118', 'rk': 13, 'rc': 0}, {'sc': 'SZ002031', 'rk': 14, 'rc': 0}, {'sc': 'SZ002261', 'rk': 15, 'rc': 0}, {'sc': 'SZ002229', 'rk': 16, 'rc': 0}, {'sc': 'SZ002199', 'rk': 17, 'rc': 0}, {'sc': 'SH600148', 'rk': 18, 'rc': 0}, {'sc': 'SZ300059', 'rk': 19, 'rc': 0}, {'sc': 'SH600579', 'rk': 20, 'rc': 0}, {'sc': 'SZ002585', 'rk': 21, 'rc': 1}, {'sc': 'SZ002786', 'rk': 22, 'rc': -1}, {'sc': 'SH605162', 'rk': 23, 'rc': 0}, {'sc': 'SZ000656', 'rk': 24, 'rc': 0}, {'sc': 'SH600710', 'rk': 25, 'rc': 0}, {'sc': 'SH600310', 'rk': 26, 'rc': 0}, {'sc': 'SZ002848', 'rk': 27, 'rc': 0}, {'sc': 'SZ300460', 'rk': 28, 'rc': 0}, {'sc': 'SZ002151', 'rk': 29, 'rc': 0}, {'sc': 'SH600215', 'rk': 30, 'rc': 0}, {'sc': 'SH600519', 'rk': 31, 'rc': 1}, {'sc': 'SZ300585', 'rk': 32, 'rc': -1}, {'sc': 'SZ002765', 'rk': 33, 'rc': 0}, {'sc': 'SH603809', 'rk': 34, 'rc': 0}, {'sc': 'SH600860', 'rk': 35, 'rc': 0}, {'sc': 'SZ000977', 'rk': 36, 'rc': 1}, {'sc': 'SH603042', 'rk': 37, 'rc': -1}, {'sc': 'SH603788', 'rk': 38, 'rc': 0}, {'sc': 'SZ002281', 'rk': 39, 'rc': 0}, {'sc': 'SZ002162', 'rk': 40, 'rc': 0}, {'sc': 'SH600592', 'rk': 41, 'rc': 0}, {'sc': 'SH600330', 'rk': 42, 'rc': 0}, {'sc': 'SZ002896', 'rk': 43, 'rc': 0}, {'sc': 'SH600509', 'rk': 44, 'rc': 0}, {'sc': 'SH601360', 'rk': 45, 'rc': 0}, {'sc': 'SZ002490', 'rk': 46, 'rc': 0}, {'sc': 'SH600150', 'rk': 47, 'rc': 0}, {'sc': 'SH601127', 'rk': 48, 'rc': 1}, {'sc': 'SH603040', 'rk': 49, 'rc': -1}, {'sc': 'SH600103', 'rk': 50, 'rc': 2}, {'sc': 'SH605555', 'rk': 51, 'rc': -1}, {'sc': 'SZ002230', 'rk': 52, 'rc': -1}, {'sc': 'SZ301255', 'rk': 53, 'rc': 0}, {'sc': 'SZ002079', 'rk': 54, 'rc': 0}, {'sc': 'SZ002472', 'rk': 55, 'rc': 0}, {'sc': 'SZ000063', 'rk': 56, 'rc': 0}, {'sc': 'SZ002851', 'rk': 57, 'rc': 3}, {'sc': 'SZ002703', 'rk': 58, 'rc': -1}, {'sc': 'SZ300503', 'rk': 59, 'rc': 0}, {'sc': 'SH600137', 'rk': 60, 'rc': 1}, {'sc': 'SZ300258', 'rk': 61, 'rc': -3}, {'sc': 'SZ000988', 'rk': 62, 'rc': 0}, {'sc': 'SZ300161', 'rk': 63, 'rc': 0}, {'sc': 'SH603259', 'rk': 64, 'rc': 0}, {'sc': 'SZ002519', 'rk': 65, 'rc': 0}, {'sc': 'SH603019', 'rk': 66, 'rc': 0}, {'sc': 'SZ000790', 'rk': 67, 'rc': 0}, {'sc': 'SZ002992', 'rk': 68, 'rc': 0}, {'sc': 'SH601698', 'rk': 69, 'rc': 0}, {'sc': 'SZ300308', 'rk': 70, 'rc': 0}, {'sc': 'SZ002284', 'rk': 71, 'rc': 0}, {'sc': 'SH603083', 'rk': 72, 'rc': 0}, {'sc': 'SZ002315', 'rk': 73, 'rc': 0}, {'sc': 'SH603052', 'rk': 74, 'rc': 0}, {'sc': 'SZ300912', 'rk': 75, 'rc': 0}, {'sc': 'SZ301221', 'rk': 76, 'rc': 0}, {'sc': 'SH600839', 'rk': 77, 'rc': 0}, {'sc': 'SH603662', 'rk': 78, 'rc': 0}, {'sc': 'SH600391', 'rk': 79, 'rc': 1}, {'sc': 'SZ300680', 'rk': 80, 'rc': -1}, {'sc': 'SH603666', 'rk': 81, 'rc': 0}, {'sc': 'SH603108', 'rk': 82, 'rc': 0}, {'sc': 'SH600979', 'rk': 83, 'rc': 0}, {'sc': 'SH600105', 'rk': 84, 'rc': 0}, {'sc': 'SH603267', 'rk': 85, 'rc': 0}, {'sc': 'SZ002354', 'rk': 86, 'rc': 0}, {'sc': 'SH601012', 'rk': 87, 'rc': 0}, {'sc': 'SH603286', 'rk': 88, 'rc': 0}, {'sc': 'SZ002058', 'rk': 89, 'rc': 0}, {'sc': 'SH601138', 'rk': 90, 'rc': 0}, {'sc': 'SZ000938', 'rk': 91, 'rc': 0}, {'sc': 'SZ002536', 'rk': 92, 'rc': 0}, {'sc': 'SZ002015', 'rk': 93, 'rc': 0}, {'sc': 'SH688097', 'rk': 94, 'rc': 0}, {'sc': 'SH603918', 'rk': 95, 'rc': 0}, {'sc': 'SZ300024', 'rk': 96, 'rc': 0}, {'sc': 'SZ002935', 'rk': 97, 'rc': 0}, {'sc': 'SZ002236', 'rk': 98, 'rc': 0}, {'sc': 'SZ002292', 'rk': 99, 'rc': 0}, {'sc': 'SH603988', 'rk': 100, 'rc': 0}], 'stack': None}\n",
      "Over\n"
     ]
    }
   ],
   "source": [
    "import requests\n",
    "\n",
    "payload = {\n",
    "    'appId': 'appId01',\n",
    "    'globalId': '786e4c21-70dc-435a-93bb-38',\n",
    "    'marketType':'',\n",
    "    'pageNo':1,\n",
    "    'pageSize':100,\n",
    "}\n",
    "url = 'https://emappdata.eastmoney.com/stockrank/getAllCurrentList'\n",
    "\n",
    "r = requests.post(url, json=payload)\n",
    "json_data = r.json()\n",
    "print('Request URL: ', r.url)\n",
    "print('Request Type: ', r.request)\n",
    "print('Response json data: ', json_data)\n",
    "print('Over')"
   ]
  },
  {
   "cell_type": "markdown",
   "metadata": {},
   "source": [
    "## 07. 雪球 SPSIOP 股票价格"
   ]
  },
  {
   "cell_type": "code",
   "execution_count": 7,
   "metadata": {},
   "outputs": [
    {
     "name": "stdout",
     "output_type": "stream",
     "text": [
      "Request URL:  https://stock.xueqiu.com/v5/stock/quote.json?symbol=.SPSIOP&detail=extend\n",
      "Request Type:  <PreparedRequest [GET]>\n",
      "Response json data:  {'data': {'market': {'status_id': 2, 'region': 'US', 'status': '盘前交易', 'time_zone': 'America/New_York', 'time_zone_desc': None, 'delay_tag': 0}, 'quote': {'symbol': '.SPSIOP', 'code': '.SPSIOP', 'avg_price': 4739.22, 'delayed': 0, 'type': 3, 'percent': -1.96, 'tick_size': 0.001, 'float_shares': None, 'amplitude': 2.55, 'current': 4739.22, 'high': 4833.83, 'current_year_percent': -9.58, 'float_market_capital': None, 'issue_date': None, 'low': 4710.57, 'sub_type': None, 'market_capital': None, 'currency': 'USD', 'lot_size': 1, 'lock_set': 1, 'timestamp': 1687468825374, 'amount': None, 'chg': -94.61, 'last_close': 4833.83, 'volume': None, 'turnover_rate': None, 'name': 'SPSIOP', 'exchange': None, 'time': 1687468825374, 'total_shares': None, 'open': 4833.83, 'status': 1}, 'others': {'pankou_ratio': None, 'cyb_switch': True}, 'tags': []}, 'error_code': 0, 'error_description': ''}\n",
      "Over\n"
     ]
    }
   ],
   "source": [
    "import requests\n",
    "\n",
    "headers = {'user-agent': 'Mozilla/5.0 (Windows NT 10.0; Win64; x64) AppleWebKit/537.36 (KHTML, like Gecko) Chrome/109.0.0.0 Safari/537.36'}\n",
    "params = {'symbol':'.SPSIOP', 'detail':'extend'}\n",
    "url = 'https://stock.xueqiu.com/v5/stock/quote.json'\n",
    "\n",
    "# 1. Create Session instance to get cookie automatically\n",
    "session = requests.Session()\n",
    "# 2. Get xueqiu.com cookie\n",
    "session.get('https://xueqiu.com', headers=headers)\n",
    "# 3. Get request with the cookie\n",
    "r = session.get(url, headers=headers, params=params)\n",
    "json_data = r.json()\n",
    "print('Request URL: ', r.url)\n",
    "print('Request Type: ', r.request)\n",
    "print('Response json data: ', json_data)\n",
    "print('Over')"
   ]
  },
  {
   "cell_type": "code",
   "execution_count": null,
   "metadata": {},
   "outputs": [],
   "source": []
  }
 ],
 "metadata": {
  "kernelspec": {
   "display_name": "Python 3",
   "language": "python",
   "name": "python3"
  },
  "language_info": {
   "codemirror_mode": {
    "name": "ipython",
    "version": 3
   },
   "file_extension": ".py",
   "mimetype": "text/x-python",
   "name": "python",
   "nbconvert_exporter": "python",
   "pygments_lexer": "ipython3",
   "version": "3.8.3"
  }
 },
 "nbformat": 4,
 "nbformat_minor": 4
}
